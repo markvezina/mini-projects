{
 "cells": [
  {
   "cell_type": "code",
   "execution_count": 196,
   "id": "9ebf9b82-50ef-4f97-b939-cfa30f4333fc",
   "metadata": {},
   "outputs": [
    {
     "name": "stdout",
     "output_type": "stream",
     "text": [
      "Requirement already satisfied: xgboost in /home/mark/.config/jupyterlab-desktop/jlab_server/lib/python3.12/site-packages (3.0.2)\n",
      "Requirement already satisfied: numpy in /home/mark/.config/jupyterlab-desktop/jlab_server/lib/python3.12/site-packages (from xgboost) (2.1.0)\n",
      "Requirement already satisfied: nvidia-nccl-cu12 in /home/mark/.config/jupyterlab-desktop/jlab_server/lib/python3.12/site-packages (from xgboost) (2.26.5)\n",
      "Requirement already satisfied: scipy in /home/mark/.config/jupyterlab-desktop/jlab_server/lib/python3.12/site-packages (from xgboost) (1.14.1)\n"
     ]
    }
   ],
   "source": [
    "#pip install scikit-learn\n",
    "!pip install xgboost"
   ]
  },
  {
   "cell_type": "code",
   "execution_count": 197,
   "id": "a7477554-bae4-49c6-90e9-12cf0dbc5b8e",
   "metadata": {},
   "outputs": [
    {
     "name": "stdout",
     "output_type": "stream",
     "text": [
      "<class 'pandas.core.frame.DataFrame'>\n",
      "RangeIndex: 76000 entries, 0 to 75999\n",
      "Data columns (total 16 columns):\n",
      " #   Column              Non-Null Count  Dtype  \n",
      "---  ------              --------------  -----  \n",
      " 0   Date                76000 non-null  object \n",
      " 1   Store ID            76000 non-null  object \n",
      " 2   Product ID          76000 non-null  object \n",
      " 3   Category            76000 non-null  object \n",
      " 4   Region              76000 non-null  object \n",
      " 5   Inventory Level     76000 non-null  int64  \n",
      " 6   Units Sold          76000 non-null  int64  \n",
      " 7   Units Ordered       76000 non-null  int64  \n",
      " 8   Price               76000 non-null  float64\n",
      " 9   Discount            76000 non-null  int64  \n",
      " 10  Weather Condition   76000 non-null  object \n",
      " 11  Promotion           76000 non-null  int64  \n",
      " 12  Competitor Pricing  76000 non-null  float64\n",
      " 13  Seasonality         76000 non-null  object \n",
      " 14  Epidemic            76000 non-null  int64  \n",
      " 15  Demand              76000 non-null  int64  \n",
      "dtypes: float64(2), int64(7), object(7)\n",
      "memory usage: 9.3+ MB\n"
     ]
    }
   ],
   "source": [
    "import pandas as pd\n",
    "from sklearn.model_selection import train_test_split\n",
    "from sklearn.linear_model import LinearRegression\n",
    "from xgboost import XGBRegressor\n",
    "from sklearn.metrics import root_mean_squared_error, mean_squared_error, mean_absolute_error, r2_score\n",
    "\n",
    "file = r\"../data/raw/sales_data.csv\"\n",
    "df = pd.read_csv(file)\n",
    "df.info()"
   ]
  },
  {
   "cell_type": "code",
   "execution_count": 198,
   "id": "5f7bc08b-9b6f-4e56-af68-b661b16c4d9b",
   "metadata": {},
   "outputs": [
    {
     "name": "stdout",
     "output_type": "stream",
     "text": [
      "<class 'pandas.core.frame.DataFrame'>\n",
      "RangeIndex: 76000 entries, 0 to 75999\n",
      "Data columns (total 14 columns):\n",
      " #   Column              Non-Null Count  Dtype  \n",
      "---  ------              --------------  -----  \n",
      " 0   Store ID            76000 non-null  int64  \n",
      " 1   Product ID          76000 non-null  int64  \n",
      " 2   Inventory Level     76000 non-null  int64  \n",
      " 3   Units Sold          76000 non-null  int64  \n",
      " 4   Units Ordered       76000 non-null  int64  \n",
      " 5   Price               76000 non-null  float64\n",
      " 6   Discount            76000 non-null  int64  \n",
      " 7   Promotion           76000 non-null  int64  \n",
      " 8   Competitor Pricing  76000 non-null  float64\n",
      " 9   Epidemic            76000 non-null  int64  \n",
      " 10  Demand              76000 non-null  int64  \n",
      " 11  Year                76000 non-null  int32  \n",
      " 12  Month               76000 non-null  int32  \n",
      " 13  Day                 76000 non-null  int32  \n",
      "dtypes: float64(2), int32(3), int64(9)\n",
      "memory usage: 7.2 MB\n"
     ]
    },
    {
     "data": {
      "text/plain": [
       "0    1\n",
       "1    1\n",
       "2    1\n",
       "3    1\n",
       "4    1\n",
       "Name: Store ID, dtype: int64"
      ]
     },
     "execution_count": 198,
     "metadata": {},
     "output_type": "execute_result"
    }
   ],
   "source": [
    "#Perform date feature extraction\n",
    "df[\"Date\"] = pd.to_datetime(df[\"Date\"])\n",
    "df[\"Year\"] = df[\"Date\"].dt.year\n",
    "df[\"Month\"] = df[\"Date\"].dt.month\n",
    "df[\"Day\"] = df[\"Date\"].dt.day\n",
    "\n",
    "#Extract Store ID as int\n",
    "df[\"Store ID\"] = df[\"Store ID\"].str[-1]\n",
    "df[\"Store ID\"] = df[\"Store ID\"].astype(int)\n",
    "\n",
    "#Extract Product ID as int\n",
    "df[\"Product ID\"] = df[\"Product ID\"].str[-2:]\n",
    "df[\"Product ID\"] = df[\"Product ID\"].astype(int)\n",
    "\n",
    "#Drop columns to allow for linear regression\n",
    "df = df.drop([\"Date\",\"Category\", \"Region\", \"Weather Condition\", \"Seasonality\"], axis=1)\n",
    "\n",
    "df.info()\n",
    "df[\"Store ID\"].head()"
   ]
  },
  {
   "cell_type": "code",
   "execution_count": 199,
   "id": "0662deee-98f5-42ef-a09f-16ea0f60a774",
   "metadata": {},
   "outputs": [],
   "source": [
    "#perform the data splitting into test and train\n",
    "X = df.drop(\"Demand\", axis=1)\n",
    "y = df[\"Demand\"]\n",
    "\n",
    "X_train, X_test, y_train, y_test = train_test_split(\n",
    "    X, y, test_size=0.2, random_state=42\n",
    ")"
   ]
  },
  {
   "cell_type": "code",
   "execution_count": 200,
   "id": "298969d0-4f50-4203-8495-f6a1a7e06a9f",
   "metadata": {},
   "outputs": [
    {
     "name": "stdout",
     "output_type": "stream",
     "text": [
      "MAE:  37.04164861495845\n",
      "R2:  -3.0133924244779564e-08\n"
     ]
    }
   ],
   "source": [
    "#Baseline - guess the mean\n",
    "meanDemand = y_train.mean()\n",
    "y_pred_baseline = [meanDemand] * len(y_test)\n",
    "\n",
    "print(\"MAE: \", mean_absolute_error(y_test, y_pred_baseline))\n",
    "print(\"R2: \", r2_score(y_test, y_pred_baseline))"
   ]
  },
  {
   "cell_type": "code",
   "execution_count": 201,
   "id": "8494abc7-9a4b-4ed5-a6a4-6164823662ea",
   "metadata": {},
   "outputs": [
    {
     "name": "stdout",
     "output_type": "stream",
     "text": [
      "Baseline MAE:  47.46949301964499\n"
     ]
    }
   ],
   "source": [
    "#Baseline - predict yesterday's demand\n",
    "dfBaseline = df\n",
    "dfBaseline[\"Demand Yesterday\"] = dfBaseline[\"Demand\"].shift(1)\n",
    "\n",
    "dfBaseline = dfBaseline.dropna(subset=[\"Demand Yesterday\"])\n",
    "\n",
    "baselineMAE = mean_absolute_error(dfBaseline[\"Demand\"], dfBaseline[\"Demand Yesterday\"])\n",
    "print(\"Baseline MAE: \", baselineMAE)"
   ]
  },
  {
   "cell_type": "code",
   "execution_count": 202,
   "id": "06f2b2aa-7fd9-414d-8987-3d4c2cf5f017",
   "metadata": {},
   "outputs": [
    {
     "name": "stdout",
     "output_type": "stream",
     "text": [
      "MAE:  17.47813879019439\n",
      "RMSE:  23.434553385433485\n",
      "R2:  0.7513360313734248\n"
     ]
    }
   ],
   "source": [
    "#Develop linear regression model and test to compare with baseline\n",
    "model = LinearRegression()\n",
    "model.fit(X_train, y_train)\n",
    "\n",
    "y_pred = model.predict(X_test)\n",
    "print(\"MAE: \", mean_absolute_error(y_test, y_pred))\n",
    "print(\"RMSE: \", root_mean_squared_error(y_test, y_pred))\n",
    "print(\"R2: \", r2_score(y_test, y_pred))"
   ]
  },
  {
   "cell_type": "code",
   "execution_count": 203,
   "id": "342ee220-1744-481a-ad5e-04f07d6e8a55",
   "metadata": {},
   "outputs": [
    {
     "name": "stdout",
     "output_type": "stream",
     "text": [
      "MAE:  14.7510347366333\n",
      "RMSE:  19.265045166015625\n",
      "R2:  0.8319495916366577\n"
     ]
    }
   ],
   "source": [
    "#Try an xgboost regressor and see if this outperforms out linear regression model\n",
    "modelTwo = XGBRegressor(n_estimators=100, learning_rate=0.1, max_depth=3, random_state=42)\n",
    "modelTwo.fit(X_train, y_train)\n",
    "\n",
    "y_pred = modelTwo.predict(X_test)\n",
    "\n",
    "print(\"MAE: \", mean_absolute_error(y_test, y_pred))\n",
    "print(\"RMSE: \", root_mean_squared_error(y_test, y_pred))\n",
    "print(\"R2: \", r2_score(y_test, y_pred))"
   ]
  },
  {
   "cell_type": "code",
   "execution_count": 204,
   "id": "99175f7e-8e18-463b-aff1-7ad1f3d7054c",
   "metadata": {},
   "outputs": [
    {
     "name": "stdout",
     "output_type": "stream",
     "text": [
      "MAE:  12.460892677307129\n",
      "RMSE:  16.474903106689453\n",
      "R2:  0.8771018981933594\n"
     ]
    }
   ],
   "source": [
    "#Untuned xgboost performed better than linear regression, let's see what happens when we tune it.\n",
    "modelTwo = XGBRegressor(n_estimators=100, learning_rate=0.1, max_depth=8, random_state=42)\n",
    "modelTwo.fit(X_train, y_train)\n",
    "\n",
    "y_pred = modelTwo.predict(X_test)\n",
    "\n",
    "print(\"Test Results:\")\n",
    "print(\"MAE: \", mean_absolute_error(y_test, y_pred))\n",
    "print(\"RMSE: \", root_mean_squared_error(y_test, y_pred))\n",
    "print(\"R2: \", r2_score(y_test, y_pred))"
   ]
  },
  {
   "cell_type": "code",
   "execution_count": null,
   "id": "61d8530a-3cab-462f-9549-fcf9ad7ea9ae",
   "metadata": {},
   "outputs": [],
   "source": []
  }
 ],
 "metadata": {
  "kernelspec": {
   "display_name": "Python 3 (ipykernel)",
   "language": "python",
   "name": "python3"
  },
  "language_info": {
   "codemirror_mode": {
    "name": "ipython",
    "version": 3
   },
   "file_extension": ".py",
   "mimetype": "text/x-python",
   "name": "python",
   "nbconvert_exporter": "python",
   "pygments_lexer": "ipython3",
   "version": "3.12.5"
  }
 },
 "nbformat": 4,
 "nbformat_minor": 5
}
